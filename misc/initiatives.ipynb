{
 "cells": [
  {
   "cell_type": "code",
   "execution_count": 1,
   "id": "initial_id",
   "metadata": {
    "collapsed": true,
    "ExecuteTime": {
     "end_time": "2024-01-28T02:18:17.150122Z",
     "start_time": "2024-01-28T02:18:17.127474Z"
    }
   },
   "outputs": [],
   "source": [
    "import re"
   ]
  },
  {
   "cell_type": "code",
   "outputs": [],
   "source": [
    "text = \"\"\"Waste-to-Energy Plant\n",
    "City: Bangalore\n",
    "Funding: ₹400 crores (Approximately)\n",
    "Urban Greening Project\n",
    "City: Chennai\n",
    "Funding: ₹180 crores (Approximately)\n",
    "Riverfront Restoration\n",
    "City: Delhi\n",
    "Funding: ₹850 crores (Approximately)\n",
    "Community-Led Solid Waste Management\n",
    "City: Lucknow\n",
    "Funding: ₹100 crores (Approximately)\n",
    "Smart City Sustainable Transportation\n",
    "City: Mumbai\n",
    "Funding: ₹1,000 crores (Approximately)\n",
    "Lake Rejuvenation\n",
    "City: Bangalore\n",
    "Funding: ₹250 crores (Approximately)\n",
    "Air Quality Monitoring Network\n",
    "City: Chennai\n",
    "Funding: ₹130 crores (Approximately)\n",
    "Sustainable Housing Project\n",
    "City: Delhi\n",
    "Funding: ₹550 crores (Approximately)\n",
    "Green Building Certification Program\n",
    "City: Lucknow\n",
    "Funding: ₹80 crores (Approximately)\n",
    "Rooftop Rainwater Harvesting\n",
    "City: Mumbai\n",
    "Funding: ₹40 crores (Approximately)\n",
    "Solar Power Integration\n",
    "City: Bangalore\n",
    "Funding: ₹720 crores (Approximately)\n",
    "Bicycle Infrastructure Development\n",
    "City: Chennai\n",
    "Funding: ₹90 crores (Approximately)\n",
    "E-Waste Recycling Center\n",
    "City: Delhi\n",
    "Funding: ₹160 crores (Approximately)\n",
    "Green Roof Initiative\n",
    "City: Lucknow\n",
    "Funding: ₹55 crores (Approximately)\n",
    "Urban Wetland Conservation\n",
    "City: Mumbai\n",
    "Funding: ₹200 crores (Approximately)\n",
    "Community Forest Management\n",
    "City: Bangalore\n",
    "Funding: ₹85 crores (Approximately)\n",
    "Plastic Waste Reduction Program\n",
    "City: Chennai\n",
    "Funding: ₹35 crores (Approximately)\n",
    "Renewable Energy Microgrid\n",
    "City: Delhi\n",
    "Funding: ₹280 crores (Approximately)\n",
    "River Cleaning Initiative\n",
    "City: Lucknow\n",
    "Funding: ₹120 crores (Approximately)\n",
    "Green Technology Incubator\n",
    "City: Mumbai\n",
    "Funding: ₹65 crores (Approximately)\"\"\""
   ],
   "metadata": {
    "collapsed": false,
    "ExecuteTime": {
     "end_time": "2024-01-28T02:30:26.878317Z",
     "start_time": "2024-01-28T02:30:26.874128Z"
    }
   },
   "id": "9f964133bfd43a78",
   "execution_count": 15
  },
  {
   "cell_type": "code",
   "outputs": [],
   "source": [
    "pattern = re.compile(r\"(.*?)\\nCity: (.*?)\\nFunding: ₹([\\d,]+) crores \\(Approximately\\)\\n?\")"
   ],
   "metadata": {
    "collapsed": false,
    "ExecuteTime": {
     "end_time": "2024-01-28T02:30:27.148486Z",
     "start_time": "2024-01-28T02:30:27.145221Z"
    }
   },
   "id": "f9d84db98cc2d9db",
   "execution_count": 16
  },
  {
   "cell_type": "code",
   "outputs": [],
   "source": [
    "results = pattern.findall(text)"
   ],
   "metadata": {
    "collapsed": false,
    "ExecuteTime": {
     "end_time": "2024-01-28T02:31:38.356808Z",
     "start_time": "2024-01-28T02:31:38.352099Z"
    }
   },
   "id": "2e43c38d63edc21f",
   "execution_count": 26
  },
  {
   "cell_type": "code",
   "outputs": [
    {
     "data": {
      "text/plain": "[('Waste-to-Energy Plant', 'Bangalore', '400'),\n ('Urban Greening Project', 'Chennai', '180'),\n ('Riverfront Restoration', 'Delhi', '850'),\n ('Community-Led Solid Waste Management', 'Lucknow', '100'),\n ('Smart City Sustainable Transportation', 'Mumbai', '1,000'),\n ('Lake Rejuvenation', 'Bangalore', '250'),\n ('Air Quality Monitoring Network', 'Chennai', '130'),\n ('Sustainable Housing Project', 'Delhi', '550'),\n ('Green Building Certification Program', 'Lucknow', '80'),\n ('Rooftop Rainwater Harvesting', 'Mumbai', '40'),\n ('Solar Power Integration', 'Bangalore', '720'),\n ('Bicycle Infrastructure Development', 'Chennai', '90'),\n ('E-Waste Recycling Center', 'Delhi', '160'),\n ('Green Roof Initiative', 'Lucknow', '55'),\n ('Urban Wetland Conservation', 'Mumbai', '200'),\n ('Community Forest Management', 'Bangalore', '85'),\n ('Plastic Waste Reduction Program', 'Chennai', '35'),\n ('Renewable Energy Microgrid', 'Delhi', '280'),\n ('River Cleaning Initiative', 'Lucknow', '120'),\n ('Green Technology Incubator', 'Mumbai', '65')]"
     },
     "execution_count": 27,
     "metadata": {},
     "output_type": "execute_result"
    }
   ],
   "source": [
    "results"
   ],
   "metadata": {
    "collapsed": false,
    "ExecuteTime": {
     "end_time": "2024-01-28T02:31:41.331058Z",
     "start_time": "2024-01-28T02:31:41.317684Z"
    }
   },
   "id": "ac97293d214140f9",
   "execution_count": 27
  },
  {
   "cell_type": "code",
   "outputs": [
    {
     "data": {
      "text/plain": "20"
     },
     "execution_count": 28,
     "metadata": {},
     "output_type": "execute_result"
    }
   ],
   "source": [
    "len(results)"
   ],
   "metadata": {
    "collapsed": false,
    "ExecuteTime": {
     "end_time": "2024-01-28T02:31:42.061273Z",
     "start_time": "2024-01-28T02:31:42.056531Z"
    }
   },
   "id": "1f43ad2300a844d",
   "execution_count": 28
  },
  {
   "cell_type": "code",
   "outputs": [],
   "source": [
    "cities = [\"Bangalore\", \"Chennai\", \"Delhi\", \"Lucknow\", \"Mumbai\"]"
   ],
   "metadata": {
    "collapsed": false,
    "ExecuteTime": {
     "end_time": "2024-01-28T02:31:42.862101Z",
     "start_time": "2024-01-28T02:31:42.856777Z"
    }
   },
   "id": "50f9d364c7863003",
   "execution_count": 29
  },
  {
   "cell_type": "code",
   "outputs": [
    {
     "data": {
      "text/plain": "[('Waste-to-Energy Plant', 'Bangalore', '400'),\n ('Urban Greening Project', 'Chennai', '180'),\n ('Riverfront Restoration', 'Delhi', '850'),\n ('Community-Led Solid Waste Management', 'Lucknow', '100'),\n ('Smart City Sustainable Transportation', 'Mumbai', '1,000'),\n ('Lake Rejuvenation', 'Bangalore', '250'),\n ('Air Quality Monitoring Network', 'Chennai', '130'),\n ('Sustainable Housing Project', 'Delhi', '550'),\n ('Green Building Certification Program', 'Lucknow', '80'),\n ('Rooftop Rainwater Harvesting', 'Mumbai', '40'),\n ('Solar Power Integration', 'Bangalore', '720'),\n ('Bicycle Infrastructure Development', 'Chennai', '90'),\n ('E-Waste Recycling Center', 'Delhi', '160'),\n ('Green Roof Initiative', 'Lucknow', '55'),\n ('Urban Wetland Conservation', 'Mumbai', '200'),\n ('Community Forest Management', 'Bangalore', '85'),\n ('Plastic Waste Reduction Program', 'Chennai', '35'),\n ('Renewable Energy Microgrid', 'Delhi', '280'),\n ('River Cleaning Initiative', 'Lucknow', '120'),\n ('Green Technology Incubator', 'Mumbai', '65')]"
     },
     "execution_count": 34,
     "metadata": {},
     "output_type": "execute_result"
    }
   ],
   "source": [
    "[i for i in results if i[1] in cities]\n"
   ],
   "metadata": {
    "collapsed": false,
    "ExecuteTime": {
     "end_time": "2024-01-28T02:32:31.294969Z",
     "start_time": "2024-01-28T02:32:31.288198Z"
    }
   },
   "id": "193c328920d07935",
   "execution_count": 34
  },
  {
   "cell_type": "code",
   "outputs": [
    {
     "name": "stderr",
     "output_type": "stream",
     "text": [
      "/var/folders/7d/qqvq8tm16zn3g36s4b7711600000gn/T/ipykernel_16283/2035458946.py:1: DeprecationWarning: \n",
      "Pyarrow will become a required dependency of pandas in the next major release of pandas (pandas 3.0),\n",
      "(to allow more performant data types, such as the Arrow string type, and better interoperability with other libraries)\n",
      "but was not found to be installed on your system.\n",
      "If this would cause problems for you,\n",
      "please provide us feedback at https://github.com/pandas-dev/pandas/issues/54466\n",
      "        \n",
      "  import pandas as pd\n"
     ]
    }
   ],
   "source": [
    "import pandas as pd"
   ],
   "metadata": {
    "collapsed": false,
    "ExecuteTime": {
     "end_time": "2024-01-28T02:32:52.774933Z",
     "start_time": "2024-01-28T02:32:52.175754Z"
    }
   },
   "id": "c14f0b7b035c1ce",
   "execution_count": 35
  },
  {
   "cell_type": "code",
   "outputs": [],
   "source": [
    "df = pd.DataFrame(results, columns=[\"Project\", \"City\", \"Funding\"])"
   ],
   "metadata": {
    "collapsed": false,
    "ExecuteTime": {
     "end_time": "2024-01-28T02:32:59.780536Z",
     "start_time": "2024-01-28T02:32:59.773018Z"
    }
   },
   "id": "91849f700b8e9a25",
   "execution_count": 36
  },
  {
   "cell_type": "code",
   "outputs": [
    {
     "data": {
      "text/plain": "                      Project       City Funding\ncount                      20         20      20\nunique                     20          5      20\ntop     Waste-to-Energy Plant  Bangalore     400\nfreq                        1          4       1",
      "text/html": "<div>\n<style scoped>\n    .dataframe tbody tr th:only-of-type {\n        vertical-align: middle;\n    }\n\n    .dataframe tbody tr th {\n        vertical-align: top;\n    }\n\n    .dataframe thead th {\n        text-align: right;\n    }\n</style>\n<table border=\"1\" class=\"dataframe\">\n  <thead>\n    <tr style=\"text-align: right;\">\n      <th></th>\n      <th>Project</th>\n      <th>City</th>\n      <th>Funding</th>\n    </tr>\n  </thead>\n  <tbody>\n    <tr>\n      <th>count</th>\n      <td>20</td>\n      <td>20</td>\n      <td>20</td>\n    </tr>\n    <tr>\n      <th>unique</th>\n      <td>20</td>\n      <td>5</td>\n      <td>20</td>\n    </tr>\n    <tr>\n      <th>top</th>\n      <td>Waste-to-Energy Plant</td>\n      <td>Bangalore</td>\n      <td>400</td>\n    </tr>\n    <tr>\n      <th>freq</th>\n      <td>1</td>\n      <td>4</td>\n      <td>1</td>\n    </tr>\n  </tbody>\n</table>\n</div>"
     },
     "execution_count": 39,
     "metadata": {},
     "output_type": "execute_result"
    }
   ],
   "source": [
    "df.describe()"
   ],
   "metadata": {
    "collapsed": false,
    "ExecuteTime": {
     "end_time": "2024-01-28T02:36:25.152655Z",
     "start_time": "2024-01-28T02:36:25.138238Z"
    }
   },
   "id": "71e2b6eb605958b4",
   "execution_count": 39
  },
  {
   "cell_type": "code",
   "outputs": [],
   "source": [
    "df[\"Funding\"] = df[\"Funding\"].str.replace(\",\", \"\").astype(int)"
   ],
   "metadata": {
    "collapsed": false,
    "ExecuteTime": {
     "end_time": "2024-01-28T02:37:00.580403Z",
     "start_time": "2024-01-28T02:37:00.575171Z"
    }
   },
   "id": "1c575989a5588932",
   "execution_count": 41
  },
  {
   "cell_type": "code",
   "outputs": [
    {
     "data": {
      "text/plain": "                                 Project       City  Funding\n0                  Waste-to-Energy Plant  Bangalore      400\n1                 Urban Greening Project    Chennai      180\n2                 Riverfront Restoration      Delhi      850\n3   Community-Led Solid Waste Management    Lucknow      100\n4  Smart City Sustainable Transportation     Mumbai     1000",
      "text/html": "<div>\n<style scoped>\n    .dataframe tbody tr th:only-of-type {\n        vertical-align: middle;\n    }\n\n    .dataframe tbody tr th {\n        vertical-align: top;\n    }\n\n    .dataframe thead th {\n        text-align: right;\n    }\n</style>\n<table border=\"1\" class=\"dataframe\">\n  <thead>\n    <tr style=\"text-align: right;\">\n      <th></th>\n      <th>Project</th>\n      <th>City</th>\n      <th>Funding</th>\n    </tr>\n  </thead>\n  <tbody>\n    <tr>\n      <th>0</th>\n      <td>Waste-to-Energy Plant</td>\n      <td>Bangalore</td>\n      <td>400</td>\n    </tr>\n    <tr>\n      <th>1</th>\n      <td>Urban Greening Project</td>\n      <td>Chennai</td>\n      <td>180</td>\n    </tr>\n    <tr>\n      <th>2</th>\n      <td>Riverfront Restoration</td>\n      <td>Delhi</td>\n      <td>850</td>\n    </tr>\n    <tr>\n      <th>3</th>\n      <td>Community-Led Solid Waste Management</td>\n      <td>Lucknow</td>\n      <td>100</td>\n    </tr>\n    <tr>\n      <th>4</th>\n      <td>Smart City Sustainable Transportation</td>\n      <td>Mumbai</td>\n      <td>1000</td>\n    </tr>\n  </tbody>\n</table>\n</div>"
     },
     "execution_count": 43,
     "metadata": {},
     "output_type": "execute_result"
    }
   ],
   "source": [
    "df.head()"
   ],
   "metadata": {
    "collapsed": false,
    "ExecuteTime": {
     "end_time": "2024-01-28T02:37:13.950120Z",
     "start_time": "2024-01-28T02:37:13.944236Z"
    }
   },
   "id": "f2cb47bda151f8a0",
   "execution_count": 43
  },
  {
   "cell_type": "code",
   "outputs": [],
   "source": [
    "df.to_csv(\"initiatives.csv\", index=False)"
   ],
   "metadata": {
    "collapsed": false,
    "ExecuteTime": {
     "end_time": "2024-01-28T02:37:17.766410Z",
     "start_time": "2024-01-28T02:37:17.759763Z"
    }
   },
   "id": "f3a1173bc5485e17",
   "execution_count": 44
  },
  {
   "cell_type": "code",
   "outputs": [],
   "source": [],
   "metadata": {
    "collapsed": false
   },
   "id": "57d0f74cdea4cbe1"
  },
  {
   "cell_type": "code",
   "outputs": [],
   "source": [
    "initiatives = {\n",
    "    \"Bangalore\": \"\"\"Waste-to-Energy Plant\n",
    "Funding: ₹400 crores\n",
    "Lake Rejuvenation\n",
    "Funding: ₹250 crores\n",
    "Solar Power Integration\n",
    "Funding: ₹720 crores\n",
    "Community Forest Management\n",
    "Funding: ₹85 crores\n",
    "River Cleaning Initiative\n",
    "Funding: ₹110 crores\n",
    "Sustainable Urban Agriculture\n",
    "Funding: ₹60 crores\n",
    "Smart Water Management System\n",
    "Funding: ₹150 crores\n",
    "Green Technology Incubator\n",
    "Funding: ₹75 crores\n",
    "Eco-friendly Public Transportation\n",
    "Funding: ₹500 crores\n",
    "Urban Biodiversity Conservation\n",
    "Funding: ₹95 crores\"\"\",\n",
    "    \"Chennai\": \"\"\"Urban Greening Project\n",
    "Funding: ₹180 crores\n",
    "Air Quality Monitoring Network\n",
    "Funding: ₹130 crores\n",
    "Bicycle Infrastructure Development\n",
    "Funding: ₹90 crores\n",
    "Green Roof Initiative\n",
    "Funding: ₹55 crores\n",
    "Plastic Waste Reduction Program\n",
    "Funding: ₹35 crores\n",
    "Coastal Conservation Project\n",
    "Funding: ₹200 crores\n",
    "Sustainable Housing Project\n",
    "Funding: ₹400 crores\n",
    "River Restoration Program\n",
    "Funding: ₹180 crores\n",
    "Green Technology Research Center\n",
    "Funding: ₹70 crores\n",
    "Urban Forest Park Development\n",
    "Funding: ₹120 crores\"\"\",\n",
    "    \"Delhi\": \"\"\"Riverfront Restoration\n",
    "Funding: ₹850 crores\n",
    "Green Building Certification Program\n",
    "Funding: ₹550 crores\n",
    "E-Waste Recycling Center\n",
    "Funding: ₹160 crores\n",
    "Renewable Energy Microgrid\n",
    "Funding: ₹280 crores\n",
    "Electric Vehicle Infrastructure\n",
    "Funding: ₹300 crores\n",
    "Sustainable Tourism Promotion\n",
    "Funding: ₹95 crores\n",
    "Waterfront Promenade Construction\n",
    "Funding: ₹200 crores\n",
    "Air Pollution Control Measures\n",
    "Funding: ₹400 crores\n",
    "Smart City Waste Management\n",
    "Funding: ₹180 crores\n",
    "Climate-Resilient Infrastructure\n",
    "Funding: ₹750 crores\n",
    "\"\"\",\n",
    "    \"Lucknow\": \"\"\"ommunity-Led Solid Waste Management\n",
    "Funding: ₹100 crores\n",
    "Green Corridor Development\n",
    "Funding: ₹80 crores\n",
    "Eco-friendly Public Parks\n",
    "Funding: ₹45 crores\n",
    "Riverfront Beautification Project\n",
    "Funding: ₹120 crores\n",
    "Affordable Green Housing Initiative\n",
    "Funding: ₹300 crores\n",
    "Tree Plantation Drive\n",
    "Funding: ₹30 crores\n",
    "Urban Wetland Conservation\n",
    "Funding: ₹120 crores\n",
    "River Beautification and Cleaning\n",
    "Funding: ₹150 crores\n",
    "Sustainable Agriculture Promotion\n",
    "Funding: ₹70 crores\n",
    "Stormwater Drainage Improvement\n",
    "Funding: ₹90 crores\"\"\",\n",
    "    \"Mumbai\": \"\"\"mart City Sustainable Transportation\n",
    "Funding: ₹1,000 crores\n",
    "Rooftop Rainwater Harvesting\n",
    "Funding: ₹40 crores\n",
    "Coastal Erosion Mitigation\n",
    "Funding: ₹500 crores\n",
    "Green Roof Initiative\n",
    "Funding: ₹65 crores\n",
    "Marine Biodiversity Conservation\n",
    "Funding: ₹150 crores\n",
    "Sustainable Tourism Infrastructure\n",
    "Funding: ₹180 crores\n",
    "Urban Tree Canopy Expansion\n",
    "Funding: ₹75 crores\n",
    "Air Quality Improvement Initiatives\n",
    "Funding: ₹300 crores\n",
    "Urban Green Spaces Development\n",
    "Funding: ₹120 crores\n",
    "Public Bicycle Sharing Program\n",
    "Funding: ₹50 crores\"\"\"\n",
    "}"
   ],
   "metadata": {
    "collapsed": false,
    "ExecuteTime": {
     "end_time": "2024-01-28T04:18:00.585723Z",
     "start_time": "2024-01-28T04:18:00.579444Z"
    }
   },
   "id": "3458bf0e787c5d04",
   "execution_count": 62
  },
  {
   "cell_type": "code",
   "outputs": [
    {
     "name": "stdout",
     "output_type": "stream",
     "text": [
      "Bangalore\n",
      "Waste-to-Energy Plant\n",
      "Funding: ₹400 crores\n",
      "Lake Rejuvenation\n",
      "Funding: ₹250 crores\n",
      "Solar Power Integration\n",
      "Funding: ₹720 crores\n",
      "Community Forest Management\n",
      "Funding: ₹85 crores\n",
      "River Cleaning Initiative\n",
      "Funding: ₹110 crores\n",
      "Sustainable Urban Agriculture\n",
      "Funding: ₹60 crores\n",
      "Smart Water Management System\n",
      "Funding: ₹150 crores\n",
      "Green Technology Incubator\n",
      "Funding: ₹75 crores\n",
      "Eco-friendly Public Transportation\n",
      "Funding: ₹500 crores\n",
      "Urban Biodiversity Conservation\n",
      "Funding: ₹95 crores\n",
      "\n",
      "Chennai\n",
      "Urban Greening Project\n",
      "Funding: ₹180 crores\n",
      "Air Quality Monitoring Network\n",
      "Funding: ₹130 crores\n",
      "Bicycle Infrastructure Development\n",
      "Funding: ₹90 crores\n",
      "Green Roof Initiative\n",
      "Funding: ₹55 crores\n",
      "Plastic Waste Reduction Program\n",
      "Funding: ₹35 crores\n",
      "Coastal Conservation Project\n",
      "Funding: ₹200 crores\n",
      "Sustainable Housing Project\n",
      "Funding: ₹400 crores\n",
      "River Restoration Program\n",
      "Funding: ₹180 crores\n",
      "Green Technology Research Center\n",
      "Funding: ₹70 crores\n",
      "Urban Forest Park Development\n",
      "Funding: ₹120 crores\n",
      "\n",
      "Delhi\n",
      "Riverfront Restoration\n",
      "Funding: ₹850 crores\n",
      "Green Building Certification Program\n",
      "Funding: ₹550 crores\n",
      "E-Waste Recycling Center\n",
      "Funding: ₹160 crores\n",
      "Renewable Energy Microgrid\n",
      "Funding: ₹280 crores\n",
      "Electric Vehicle Infrastructure\n",
      "Funding: ₹300 crores\n",
      "Sustainable Tourism Promotion\n",
      "Funding: ₹95 crores\n",
      "Waterfront Promenade Construction\n",
      "Funding: ₹200 crores\n",
      "Air Pollution Control Measures\n",
      "Funding: ₹400 crores\n",
      "Smart City Waste Management\n",
      "Funding: ₹180 crores\n",
      "Climate-Resilient Infrastructure\n",
      "Funding: ₹750 crores\n",
      "\n",
      "\n",
      "Lucknow\n",
      "ommunity-Led Solid Waste Management\n",
      "Funding: ₹100 crores\n",
      "Green Corridor Development\n",
      "Funding: ₹80 crores\n",
      "Eco-friendly Public Parks\n",
      "Funding: ₹45 crores\n",
      "Riverfront Beautification Project\n",
      "Funding: ₹120 crores\n",
      "Affordable Green Housing Initiative\n",
      "Funding: ₹300 crores\n",
      "Tree Plantation Drive\n",
      "Funding: ₹30 crores\n",
      "Urban Wetland Conservation\n",
      "Funding: ₹120 crores\n",
      "River Beautification and Cleaning\n",
      "Funding: ₹150 crores\n",
      "Sustainable Agriculture Promotion\n",
      "Funding: ₹70 crores\n",
      "Stormwater Drainage Improvement\n",
      "Funding: ₹90 crores\n",
      "\n",
      "Mumbai\n",
      "mart City Sustainable Transportation\n",
      "Funding: ₹1,000 crores\n",
      "Rooftop Rainwater Harvesting\n",
      "Funding: ₹40 crores\n",
      "Coastal Erosion Mitigation\n",
      "Funding: ₹500 crores\n",
      "Green Roof Initiative\n",
      "Funding: ₹65 crores\n",
      "Marine Biodiversity Conservation\n",
      "Funding: ₹150 crores\n",
      "Sustainable Tourism Infrastructure\n",
      "Funding: ₹180 crores\n",
      "Urban Tree Canopy Expansion\n",
      "Funding: ₹75 crores\n",
      "Air Quality Improvement Initiatives\n",
      "Funding: ₹300 crores\n",
      "Urban Green Spaces Development\n",
      "Funding: ₹120 crores\n",
      "Public Bicycle Sharing Program\n",
      "Funding: ₹50 crores\n"
     ]
    }
   ],
   "source": [
    "for city, ilist in initiatives.items():\n",
    "    print(city)\n",
    "    print(ilist)\n",
    "    print()"
   ],
   "metadata": {
    "collapsed": false,
    "ExecuteTime": {
     "end_time": "2024-01-28T04:18:01.054519Z",
     "start_time": "2024-01-28T04:18:01.048937Z"
    }
   },
   "id": "d39032305c380f9e",
   "execution_count": 63
  },
  {
   "cell_type": "code",
   "outputs": [],
   "source": [
    "pattern = re.compile(r\"(.*?)\\nFunding: ₹([\\d,]+) crores\")"
   ],
   "metadata": {
    "collapsed": false,
    "ExecuteTime": {
     "end_time": "2024-01-28T04:18:01.517770Z",
     "start_time": "2024-01-28T04:18:01.511645Z"
    }
   },
   "id": "70ec0a4c10c1bfbe",
   "execution_count": 64
  },
  {
   "cell_type": "code",
   "outputs": [],
   "source": [
    "set = []\n",
    "for city, ilist in initiatives.items():\n",
    "    results = pattern.findall(ilist)\n",
    "    for entry in results:\n",
    "        set.append((entry[0], city, int(entry[1].replace(\",\", \"\"))))\n",
    "\n",
    "df = pd.DataFrame(set, columns=[\"Project\", \"City\", \"Funding\"])    "
   ],
   "metadata": {
    "collapsed": false,
    "ExecuteTime": {
     "end_time": "2024-01-28T04:18:02.018660Z",
     "start_time": "2024-01-28T04:18:02.013068Z"
    }
   },
   "id": "eecf8eac348a8bc",
   "execution_count": 65
  },
  {
   "cell_type": "code",
   "outputs": [
    {
     "data": {
      "text/plain": "                       Project       City  Funding\n0        Waste-to-Energy Plant  Bangalore      400\n1            Lake Rejuvenation  Bangalore      250\n2      Solar Power Integration  Bangalore      720\n3  Community Forest Management  Bangalore       85\n4    River Cleaning Initiative  Bangalore      110",
      "text/html": "<div>\n<style scoped>\n    .dataframe tbody tr th:only-of-type {\n        vertical-align: middle;\n    }\n\n    .dataframe tbody tr th {\n        vertical-align: top;\n    }\n\n    .dataframe thead th {\n        text-align: right;\n    }\n</style>\n<table border=\"1\" class=\"dataframe\">\n  <thead>\n    <tr style=\"text-align: right;\">\n      <th></th>\n      <th>Project</th>\n      <th>City</th>\n      <th>Funding</th>\n    </tr>\n  </thead>\n  <tbody>\n    <tr>\n      <th>0</th>\n      <td>Waste-to-Energy Plant</td>\n      <td>Bangalore</td>\n      <td>400</td>\n    </tr>\n    <tr>\n      <th>1</th>\n      <td>Lake Rejuvenation</td>\n      <td>Bangalore</td>\n      <td>250</td>\n    </tr>\n    <tr>\n      <th>2</th>\n      <td>Solar Power Integration</td>\n      <td>Bangalore</td>\n      <td>720</td>\n    </tr>\n    <tr>\n      <th>3</th>\n      <td>Community Forest Management</td>\n      <td>Bangalore</td>\n      <td>85</td>\n    </tr>\n    <tr>\n      <th>4</th>\n      <td>River Cleaning Initiative</td>\n      <td>Bangalore</td>\n      <td>110</td>\n    </tr>\n  </tbody>\n</table>\n</div>"
     },
     "execution_count": 66,
     "metadata": {},
     "output_type": "execute_result"
    }
   ],
   "source": [
    "df.head()"
   ],
   "metadata": {
    "collapsed": false,
    "ExecuteTime": {
     "end_time": "2024-01-28T04:18:02.408675Z",
     "start_time": "2024-01-28T04:18:02.397251Z"
    }
   },
   "id": "93c78ac144b798e",
   "execution_count": 66
  },
  {
   "cell_type": "code",
   "outputs": [],
   "source": [
    "df.to_csv(\"initiatives.csv\", index=False)"
   ],
   "metadata": {
    "collapsed": false,
    "ExecuteTime": {
     "end_time": "2024-01-28T04:18:27.022375Z",
     "start_time": "2024-01-28T04:18:27.013938Z"
    }
   },
   "id": "2d8cf0ff070705f5",
   "execution_count": 69
  },
  {
   "cell_type": "code",
   "outputs": [],
   "source": [
    "thing = df.to_json()"
   ],
   "metadata": {
    "collapsed": false,
    "ExecuteTime": {
     "end_time": "2024-01-28T04:25:19.583603Z",
     "start_time": "2024-01-28T04:25:19.576843Z"
    }
   },
   "id": "3aa103d59839d294",
   "execution_count": 73
  },
  {
   "cell_type": "code",
   "outputs": [
    {
     "data": {
      "text/plain": "'{\"Project\":{\"0\":\"Waste-to-Energy Plant\",\"1\":\"Lake Rejuvenation\",\"2\":\"Solar Power Integration\",\"3\":\"Community Forest Management\",\"4\":\"River Cleaning Initiative\",\"5\":\"Sustainable Urban Agriculture\",\"6\":\"Smart Water Management System\",\"7\":\"Green Technology Incubator\",\"8\":\"Eco-friendly Public Transportation\",\"9\":\"Urban Biodiversity Conservation\",\"10\":\"Urban Greening Project\",\"11\":\"Air Quality Monitoring Network\",\"12\":\"Bicycle Infrastructure Development\",\"13\":\"Green Roof Initiative\",\"14\":\"Plastic Waste Reduction Program\",\"15\":\"Coastal Conservation Project\",\"16\":\"Sustainable Housing Project\",\"17\":\"River Restoration Program\",\"18\":\"Green Technology Research Center\",\"19\":\"Urban Forest Park Development\",\"20\":\"Riverfront Restoration\",\"21\":\"Green Building Certification Program\",\"22\":\"E-Waste Recycling Center\",\"23\":\"Renewable Energy Microgrid\",\"24\":\"Electric Vehicle Infrastructure\",\"25\":\"Sustainable Tourism Promotion\",\"26\":\"Waterfront Promenade Construction\",\"27\":\"Air Pollution Control Measures\",\"28\":\"Smart City Waste Management\",\"29\":\"Climate-Resilient Infrastructure\",\"30\":\"ommunity-Led Solid Waste Management\",\"31\":\"Green Corridor Development\",\"32\":\"Eco-friendly Public Parks\",\"33\":\"Riverfront Beautification Project\",\"34\":\"Affordable Green Housing Initiative\",\"35\":\"Tree Plantation Drive\",\"36\":\"Urban Wetland Conservation\",\"37\":\"River Beautification and Cleaning\",\"38\":\"Sustainable Agriculture Promotion\",\"39\":\"Stormwater Drainage Improvement\",\"40\":\"mart City Sustainable Transportation\",\"41\":\"Rooftop Rainwater Harvesting\",\"42\":\"Coastal Erosion Mitigation\",\"43\":\"Green Roof Initiative\",\"44\":\"Marine Biodiversity Conservation\",\"45\":\"Sustainable Tourism Infrastructure\",\"46\":\"Urban Tree Canopy Expansion\",\"47\":\"Air Quality Improvement Initiatives\",\"48\":\"Urban Green Spaces Development\",\"49\":\"Public Bicycle Sharing Program\"},\"City\":{\"0\":\"Bangalore\",\"1\":\"Bangalore\",\"2\":\"Bangalore\",\"3\":\"Bangalore\",\"4\":\"Bangalore\",\"5\":\"Bangalore\",\"6\":\"Bangalore\",\"7\":\"Bangalore\",\"8\":\"Bangalore\",\"9\":\"Bangalore\",\"10\":\"Chennai\",\"11\":\"Chennai\",\"12\":\"Chennai\",\"13\":\"Chennai\",\"14\":\"Chennai\",\"15\":\"Chennai\",\"16\":\"Chennai\",\"17\":\"Chennai\",\"18\":\"Chennai\",\"19\":\"Chennai\",\"20\":\"Delhi\",\"21\":\"Delhi\",\"22\":\"Delhi\",\"23\":\"Delhi\",\"24\":\"Delhi\",\"25\":\"Delhi\",\"26\":\"Delhi\",\"27\":\"Delhi\",\"28\":\"Delhi\",\"29\":\"Delhi\",\"30\":\"Lucknow\",\"31\":\"Lucknow\",\"32\":\"Lucknow\",\"33\":\"Lucknow\",\"34\":\"Lucknow\",\"35\":\"Lucknow\",\"36\":\"Lucknow\",\"37\":\"Lucknow\",\"38\":\"Lucknow\",\"39\":\"Lucknow\",\"40\":\"Mumbai\",\"41\":\"Mumbai\",\"42\":\"Mumbai\",\"43\":\"Mumbai\",\"44\":\"Mumbai\",\"45\":\"Mumbai\",\"46\":\"Mumbai\",\"47\":\"Mumbai\",\"48\":\"Mumbai\",\"49\":\"Mumbai\"},\"Funding\":{\"0\":400,\"1\":250,\"2\":720,\"3\":85,\"4\":110,\"5\":60,\"6\":150,\"7\":75,\"8\":500,\"9\":95,\"10\":180,\"11\":130,\"12\":90,\"13\":55,\"14\":35,\"15\":200,\"16\":400,\"17\":180,\"18\":70,\"19\":120,\"20\":850,\"21\":550,\"22\":160,\"23\":280,\"24\":300,\"25\":95,\"26\":200,\"27\":400,\"28\":180,\"29\":750,\"30\":100,\"31\":80,\"32\":45,\"33\":120,\"34\":300,\"35\":30,\"36\":120,\"37\":150,\"38\":70,\"39\":90,\"40\":1000,\"41\":40,\"42\":500,\"43\":65,\"44\":150,\"45\":180,\"46\":75,\"47\":300,\"48\":120,\"49\":50}}'"
     },
     "execution_count": 74,
     "metadata": {},
     "output_type": "execute_result"
    }
   ],
   "source": [
    "thing"
   ],
   "metadata": {
    "collapsed": false,
    "ExecuteTime": {
     "end_time": "2024-01-28T04:25:23.021955Z",
     "start_time": "2024-01-28T04:25:22.998845Z"
    }
   },
   "id": "ce38ac47fdaf074b",
   "execution_count": 74
  },
  {
   "cell_type": "code",
   "outputs": [
    {
     "name": "stdout",
     "output_type": "stream",
     "text": [
      "0\n",
      "1\n",
      "2\n",
      "3\n",
      "4\n",
      "5\n",
      "6\n",
      "7\n",
      "8\n",
      "9\n",
      "10\n",
      "11\n",
      "12\n",
      "13\n",
      "14\n",
      "15\n",
      "16\n",
      "17\n",
      "18\n",
      "19\n",
      "20\n",
      "21\n",
      "22\n",
      "23\n",
      "24\n",
      "25\n",
      "26\n",
      "27\n",
      "28\n",
      "29\n",
      "30\n",
      "31\n",
      "32\n",
      "33\n",
      "34\n",
      "35\n",
      "36\n",
      "37\n",
      "38\n",
      "39\n",
      "40\n",
      "41\n",
      "42\n",
      "43\n",
      "44\n",
      "45\n",
      "46\n",
      "47\n",
      "48\n",
      "49\n"
     ]
    }
   ],
   "source": [
    "request_body = []\n",
    "for i in range(len(df)):\n",
    "    request_body.append({\n",
    "        \"Project\"\n",
    "    })"
   ],
   "metadata": {
    "collapsed": false,
    "ExecuteTime": {
     "end_time": "2024-01-28T04:25:32.822270Z",
     "start_time": "2024-01-28T04:25:32.800754Z"
    }
   },
   "id": "abf7bfc51ece47f3",
   "execution_count": 75
  },
  {
   "cell_type": "code",
   "outputs": [],
   "source": [],
   "metadata": {
    "collapsed": false
   },
   "id": "57e8c0b9fcd2bbd7"
  }
 ],
 "metadata": {
  "kernelspec": {
   "display_name": "Python 3",
   "language": "python",
   "name": "python3"
  },
  "language_info": {
   "codemirror_mode": {
    "name": "ipython",
    "version": 2
   },
   "file_extension": ".py",
   "mimetype": "text/x-python",
   "name": "python",
   "nbconvert_exporter": "python",
   "pygments_lexer": "ipython2",
   "version": "2.7.6"
  }
 },
 "nbformat": 4,
 "nbformat_minor": 5
}
