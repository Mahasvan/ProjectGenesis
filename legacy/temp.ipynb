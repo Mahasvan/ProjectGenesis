{
 "cells": [
  {
   "cell_type": "code",
   "execution_count": 1,
   "id": "initial_id",
   "metadata": {
    "collapsed": true,
    "ExecuteTime": {
     "end_time": "2024-01-27T18:20:33.472314Z",
     "start_time": "2024-01-27T18:20:32.987441Z"
    }
   },
   "outputs": [
    {
     "name": "stderr",
     "output_type": "stream",
     "text": [
      "/var/folders/7d/qqvq8tm16zn3g36s4b7711600000gn/T/ipykernel_77285/2035458946.py:1: DeprecationWarning: \n",
      "Pyarrow will become a required dependency of pandas in the next major release of pandas (pandas 3.0),\n",
      "(to allow more performant data types, such as the Arrow string type, and better interoperability with other libraries)\n",
      "but was not found to be installed on your system.\n",
      "If this would cause problems for you,\n",
      "please provide us feedback at https://github.com/pandas-dev/pandas/issues/54466\n",
      "        \n",
      "  import pandas as pd\n"
     ]
    }
   ],
   "source": [
    "import pandas as pd"
   ]
  },
  {
   "cell_type": "code",
   "execution_count": 2,
   "outputs": [],
   "source": [
    "df1 = pd.read_csv('/Users/mahas/Downloads/combined_city_data_2015_2022.csv')"
   ],
   "metadata": {
    "collapsed": false,
    "ExecuteTime": {
     "end_time": "2024-01-27T18:20:33.527958Z",
     "start_time": "2024-01-27T18:20:33.475409Z"
    }
   },
   "id": "1fecb89c31ec8026"
  },
  {
   "cell_type": "code",
   "execution_count": 3,
   "outputs": [],
   "source": [
    "df2 = pd.read_csv('/Users/mahas/Downloads/5_City_AQI.csv')"
   ],
   "metadata": {
    "collapsed": false,
    "ExecuteTime": {
     "end_time": "2024-01-27T18:20:33.548874Z",
     "start_time": "2024-01-27T18:20:33.505456Z"
    }
   },
   "id": "fe3e5c9dafae603"
  },
  {
   "cell_type": "code",
   "execution_count": 13,
   "outputs": [],
   "source": [
    "res = pd.merge(df1, df2, left_on=[\"City\", \"time\"], right_on=[\"City\", \"Date\"], how=\"left\")"
   ],
   "metadata": {
    "collapsed": false,
    "ExecuteTime": {
     "end_time": "2024-01-27T18:29:34.477895Z",
     "start_time": "2024-01-27T18:29:34.310034Z"
    }
   },
   "id": "8b30d7559dabd83c"
  },
  {
   "cell_type": "code",
   "execution_count": 14,
   "outputs": [
    {
     "data": {
      "text/plain": "   dropme        time  tavg       tmin  tmax   City        Date   PM2.5  \\\n0       0  2015-01-01  14.9   8.800000  21.6  Delhi  2015-01-01  313.22   \n1       1  2015-01-02  14.7  10.200000  21.6  Delhi  2015-01-02  186.18   \n2       2  2015-01-03  15.0  19.203503  16.8  Delhi  2015-01-03   87.18   \n3       3  2015-01-04  14.2  19.203503  19.0  Delhi  2015-01-04  151.84   \n4       4  2015-01-05  13.9   7.800000  20.7  Delhi  2015-01-05  146.60   \n\n     PM10     NO    NO2     NOx     NH3     CO   SO2     O3  Benzene  Toluene  \\\n0  607.98  69.16  36.39  110.59   33.85  15.20  9.25  41.68    14.36    24.86   \n1  269.55  62.09  32.87   88.14   31.83   9.54  6.65  29.97    10.55    20.09   \n2  131.90  25.73  30.31   47.95   69.55  10.61  2.65  19.71     3.91    10.23   \n3  241.84  25.01  36.91   48.62  130.36  11.54  4.63  25.36     4.26     9.71   \n4  219.13  14.01  34.92   38.25  122.88   9.20  3.33  23.20     2.80     6.21   \n\n   Xylene    AQI  \n0    9.84  472.0  \n1    4.29  454.0  \n2    1.99  143.0  \n3    3.34  319.0  \n4    2.96  325.0  ",
      "text/html": "<div>\n<style scoped>\n    .dataframe tbody tr th:only-of-type {\n        vertical-align: middle;\n    }\n\n    .dataframe tbody tr th {\n        vertical-align: top;\n    }\n\n    .dataframe thead th {\n        text-align: right;\n    }\n</style>\n<table border=\"1\" class=\"dataframe\">\n  <thead>\n    <tr style=\"text-align: right;\">\n      <th></th>\n      <th>dropme</th>\n      <th>time</th>\n      <th>tavg</th>\n      <th>tmin</th>\n      <th>tmax</th>\n      <th>City</th>\n      <th>Date</th>\n      <th>PM2.5</th>\n      <th>PM10</th>\n      <th>NO</th>\n      <th>NO2</th>\n      <th>NOx</th>\n      <th>NH3</th>\n      <th>CO</th>\n      <th>SO2</th>\n      <th>O3</th>\n      <th>Benzene</th>\n      <th>Toluene</th>\n      <th>Xylene</th>\n      <th>AQI</th>\n    </tr>\n  </thead>\n  <tbody>\n    <tr>\n      <th>0</th>\n      <td>0</td>\n      <td>2015-01-01</td>\n      <td>14.9</td>\n      <td>8.800000</td>\n      <td>21.6</td>\n      <td>Delhi</td>\n      <td>2015-01-01</td>\n      <td>313.22</td>\n      <td>607.98</td>\n      <td>69.16</td>\n      <td>36.39</td>\n      <td>110.59</td>\n      <td>33.85</td>\n      <td>15.20</td>\n      <td>9.25</td>\n      <td>41.68</td>\n      <td>14.36</td>\n      <td>24.86</td>\n      <td>9.84</td>\n      <td>472.0</td>\n    </tr>\n    <tr>\n      <th>1</th>\n      <td>1</td>\n      <td>2015-01-02</td>\n      <td>14.7</td>\n      <td>10.200000</td>\n      <td>21.6</td>\n      <td>Delhi</td>\n      <td>2015-01-02</td>\n      <td>186.18</td>\n      <td>269.55</td>\n      <td>62.09</td>\n      <td>32.87</td>\n      <td>88.14</td>\n      <td>31.83</td>\n      <td>9.54</td>\n      <td>6.65</td>\n      <td>29.97</td>\n      <td>10.55</td>\n      <td>20.09</td>\n      <td>4.29</td>\n      <td>454.0</td>\n    </tr>\n    <tr>\n      <th>2</th>\n      <td>2</td>\n      <td>2015-01-03</td>\n      <td>15.0</td>\n      <td>19.203503</td>\n      <td>16.8</td>\n      <td>Delhi</td>\n      <td>2015-01-03</td>\n      <td>87.18</td>\n      <td>131.90</td>\n      <td>25.73</td>\n      <td>30.31</td>\n      <td>47.95</td>\n      <td>69.55</td>\n      <td>10.61</td>\n      <td>2.65</td>\n      <td>19.71</td>\n      <td>3.91</td>\n      <td>10.23</td>\n      <td>1.99</td>\n      <td>143.0</td>\n    </tr>\n    <tr>\n      <th>3</th>\n      <td>3</td>\n      <td>2015-01-04</td>\n      <td>14.2</td>\n      <td>19.203503</td>\n      <td>19.0</td>\n      <td>Delhi</td>\n      <td>2015-01-04</td>\n      <td>151.84</td>\n      <td>241.84</td>\n      <td>25.01</td>\n      <td>36.91</td>\n      <td>48.62</td>\n      <td>130.36</td>\n      <td>11.54</td>\n      <td>4.63</td>\n      <td>25.36</td>\n      <td>4.26</td>\n      <td>9.71</td>\n      <td>3.34</td>\n      <td>319.0</td>\n    </tr>\n    <tr>\n      <th>4</th>\n      <td>4</td>\n      <td>2015-01-05</td>\n      <td>13.9</td>\n      <td>7.800000</td>\n      <td>20.7</td>\n      <td>Delhi</td>\n      <td>2015-01-05</td>\n      <td>146.60</td>\n      <td>219.13</td>\n      <td>14.01</td>\n      <td>34.92</td>\n      <td>38.25</td>\n      <td>122.88</td>\n      <td>9.20</td>\n      <td>3.33</td>\n      <td>23.20</td>\n      <td>2.80</td>\n      <td>6.21</td>\n      <td>2.96</td>\n      <td>325.0</td>\n    </tr>\n  </tbody>\n</table>\n</div>"
     },
     "execution_count": 14,
     "metadata": {},
     "output_type": "execute_result"
    }
   ],
   "source": [
    "res.head()"
   ],
   "metadata": {
    "collapsed": false,
    "ExecuteTime": {
     "end_time": "2024-01-27T18:29:37.996506Z",
     "start_time": "2024-01-27T18:29:37.937244Z"
    }
   },
   "id": "b0d4132803e0a12d"
  },
  {
   "cell_type": "code",
   "execution_count": 16,
   "outputs": [],
   "source": [
    "res = res.drop(\"dropme\", axis=1)"
   ],
   "metadata": {
    "collapsed": false,
    "ExecuteTime": {
     "end_time": "2024-01-27T18:29:59.182243Z",
     "start_time": "2024-01-27T18:29:59.151118Z"
    }
   },
   "id": "a3aabf26828c3da1"
  },
  {
   "cell_type": "code",
   "execution_count": 17,
   "outputs": [
    {
     "name": "stdout",
     "output_type": "stream",
     "text": [
      "<class 'pandas.core.frame.DataFrame'>\n",
      "RangeIndex: 13815 entries, 0 to 13814\n",
      "Data columns (total 19 columns):\n",
      " #   Column   Non-Null Count  Dtype  \n",
      "---  ------   --------------  -----  \n",
      " 0   time     13815 non-null  object \n",
      " 1   tavg     13815 non-null  float64\n",
      " 2   tmin     13815 non-null  float64\n",
      " 3   tmax     13815 non-null  float64\n",
      " 4   City     13815 non-null  object \n",
      " 5   Date     10045 non-null  object \n",
      " 6   PM2.5    10045 non-null  float64\n",
      " 7   PM10     10045 non-null  float64\n",
      " 8   NO       10045 non-null  float64\n",
      " 9   NO2      10045 non-null  float64\n",
      " 10  NOx      10045 non-null  float64\n",
      " 11  NH3      10045 non-null  float64\n",
      " 12  CO       10045 non-null  float64\n",
      " 13  SO2      10045 non-null  float64\n",
      " 14  O3       10045 non-null  float64\n",
      " 15  Benzene  10045 non-null  float64\n",
      " 16  Toluene  10045 non-null  float64\n",
      " 17  Xylene   10045 non-null  float64\n",
      " 18  AQI      10045 non-null  float64\n",
      "dtypes: float64(16), object(3)\n",
      "memory usage: 2.0+ MB\n"
     ]
    }
   ],
   "source": [
    "res.info()"
   ],
   "metadata": {
    "collapsed": false,
    "ExecuteTime": {
     "end_time": "2024-01-27T18:30:02.403342Z",
     "start_time": "2024-01-27T18:30:02.370007Z"
    }
   },
   "id": "e4ad129142984c2a"
  },
  {
   "cell_type": "code",
   "execution_count": 18,
   "outputs": [],
   "source": [
    "res.to_csv(\"result.csv\", index=False)"
   ],
   "metadata": {
    "collapsed": false,
    "ExecuteTime": {
     "end_time": "2024-01-27T18:30:09.433722Z",
     "start_time": "2024-01-27T18:30:08.421669Z"
    }
   },
   "id": "55db1b25e16d9a3b"
  },
  {
   "cell_type": "code",
   "execution_count": null,
   "outputs": [],
   "source": [],
   "metadata": {
    "collapsed": false
   },
   "id": "dfbf46bed8ecb3b3"
  }
 ],
 "metadata": {
  "kernelspec": {
   "display_name": "Python 3",
   "language": "python",
   "name": "python3"
  },
  "language_info": {
   "codemirror_mode": {
    "name": "ipython",
    "version": 2
   },
   "file_extension": ".py",
   "mimetype": "text/x-python",
   "name": "python",
   "nbconvert_exporter": "python",
   "pygments_lexer": "ipython2",
   "version": "2.7.6"
  }
 },
 "nbformat": 4,
 "nbformat_minor": 5
}
